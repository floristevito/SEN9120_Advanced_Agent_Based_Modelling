{
 "cells": [
  {
   "cell_type": "code",
   "execution_count": null,
   "id": "2ee15713-f9f6-4d1c-8a98-12da45941b04",
   "metadata": {},
   "outputs": [],
   "source": [
    "def choose_cheapest_timesteps(self,starting_time,ending_time,charge_needed):\n",
    "        '''This function will tell you the most economic (cheap) way of getting to a full charge within the time window, if possible\n",
    "           The start and end time are ticks of 1 hour atm\n",
    "           Charge needed still abstract/dimensionless, the amount of energy the car needs e.g. full or like 75% idc\n",
    "           \n",
    "           \n",
    "           Function use:\n",
    "           input starting and ending time of charge \n",
    "           function outputs cheapest predicted hours (ticks count of hour)\n",
    "           hours can be set to charging? = true using this\n",
    "        '''\n",
    "        if starting_time%96 < ending_time%96:\n",
    "            total_time_window = self.model.ma_price_history[starting_time%96:ending_time%96] #e.g. charging from 1AM to 3PM is from 1:00 - 3:00\n",
    "        else:\n",
    "            total_time_window = self.model.ma_price_history[starting_time%96:] + self.model.ma_price_history[:ending_time%96]\n",
    "        timesteps_needed = math.ceil(charge_needed/self.charging_speed)\n",
    "        if timesteps_needed > (abs(ending_time-starting_time)):\n",
    "            # charge all the available times\n",
    "            self.cheapest_timesteps = [i for i in range(starting_time,ending_time)]\n",
    "        else:\n",
    "            # give all indexes + starting_time that are cheapest\n",
    "            timewindow = np.array(total_time_window.copy())\n",
    "            idx = np.argpartition(timewindow, timesteps_needed)\n",
    "            cheapest_timesteps = idx[:timesteps_needed].tolist()\n",
    "            self.cheapest_timesteps = [i + starting_time for i in cheapest_timesteps]"
   ]
  }
 ],
 "metadata": {
  "kernelspec": {
   "display_name": "Python 3 (ipykernel)",
   "language": "python",
   "name": "python3"
  },
  "language_info": {
   "codemirror_mode": {
    "name": "ipython",
    "version": 3
   },
   "file_extension": ".py",
   "mimetype": "text/x-python",
   "name": "python",
   "nbconvert_exporter": "python",
   "pygments_lexer": "ipython3",
   "version": "3.9.7"
  }
 },
 "nbformat": 4,
 "nbformat_minor": 5
}
