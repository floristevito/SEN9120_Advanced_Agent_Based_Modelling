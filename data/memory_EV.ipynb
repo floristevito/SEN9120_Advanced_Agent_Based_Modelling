{
 "cells": [
  {
   "cell_type": "code",
   "execution_count": 1,
   "id": "5b18a23c-f0b6-42d7-ba6b-997e77bbe3a5",
   "metadata": {},
   "outputs": [],
   "source": [
    "import pandas as pd\n",
    "import numpy as np\n",
    "import math"
   ]
  },
  {
   "cell_type": "code",
   "execution_count": 2,
   "id": "5477f6da-6555-49bc-a91d-196c45abc41e",
   "metadata": {},
   "outputs": [],
   "source": [
    "df = pd.read_csv('testing_hour_prices2.csv', sep=';',decimal = ',')\n"
   ]
  },
  {
   "cell_type": "code",
   "execution_count": 3,
   "id": "8941bccc-e7c7-4c89-845b-9f840e8e294b",
   "metadata": {},
   "outputs": [],
   "source": [
    "class EV:\n",
    "    def __init__(self, name, charge_init):\n",
    "        self.name = name\n",
    "        self.charge_init = charge_init\n",
    "        self.charging_speed = 10\n",
    "        self.price_memory = [[] for i in range(96)]\n",
    "        self.average_price_memory = []\n",
    "        self.cheapest_timesteps = []\n",
    "    \n",
    "    def fill_memory(self, current_hour, electricity_price):\n",
    "        '''\n",
    "        Fills the memory of agents with the previous prices\n",
    "        \n",
    "        SHOULD BE DONE ON SUPERCLASS LEVEL TO SAVE DATA AND COMPUTATIONS\n",
    "        \n",
    "        '''\n",
    "        \n",
    "        self.price_memory[(current_hour %96) - 1].append(electricity_price)\n",
    "        \n",
    "    def average_memory(self):\n",
    "        '''\n",
    "        From self.price_memory creates avarage prices for a 24h cycle\n",
    "        \n",
    "        Could be expanded to a 4*24h cycle if wanted\n",
    "        \n",
    "        '''\n",
    "        self.average_price_memory = [round(np.mean(self.price_memory[i]),2) for i in range(len(self.price_memory))]\n",
    "    \n",
    "    \n",
    "\n",
    "        \n",
    "    def choose_cheapest_timesteps(self,starting_time,ending_time,charge_needed):\n",
    "        '''This function will tell you the most economic (cheap) way of getting to a full charge within the time window, if possible\n",
    "           The start and end time are ticks of 1 hour atm\n",
    "           Charge needed still abstract/dimensionless, the amount of energy the car needs e.g. full or like 75% idc\n",
    "           \n",
    "           \n",
    "           Function use:\n",
    "           input starting and ending time of charge \n",
    "           function outputs cheapest predicted hours (ticks count of hour)\n",
    "           hours can be set to charging? = true using this\n",
    "        '''\n",
    "        if starting_time%96 < ending_time%96:\n",
    "            total_time_window = self.average_price_memory[starting_time%96:ending_time%96] #e.g. charging from 1AM to 3PM is from 1:00 - 3:00\n",
    "        else:\n",
    "            total_time_window = self.average_price_memory[starting_time%96:] + self.average_price_memory[:ending_time%96]\n",
    "        timesteps_needed = math.ceil(charge_needed/self.charging_speed)\n",
    "        if timesteps_needed > (abs(ending_time-starting_time)):\n",
    "            # charge all the available times\n",
    "            self.cheapest_timesteps = [i for i in range(starting_time,ending_time)]\n",
    "        else:\n",
    "            # give all indexes + starting_time that are cheapest\n",
    "            timewindow = np.array(total_time_window.copy())\n",
    "            idx = np.argpartition(timewindow, timesteps_needed)\n",
    "            cheapest_timesteps = idx[:timesteps_needed].tolist()\n",
    "            self.cheapest_timesteps = [i + starting_time for i in cheapest_timesteps]\n",
    "        "
   ]
  },
  {
   "cell_type": "code",
   "execution_count": null,
   "id": "3bb21052-c4d5-466d-9cf6-808fca54c268",
   "metadata": {},
   "outputs": [],
   "source": []
  },
  {
   "cell_type": "code",
   "execution_count": 4,
   "id": "88e14ab1-f74a-4459-a567-ccab3c3bed3c",
   "metadata": {},
   "outputs": [],
   "source": [
    "EV1 = EV('test',20)"
   ]
  },
  {
   "cell_type": "code",
   "execution_count": 5,
   "id": "576f6b82-2a18-4b7f-b213-9b68f17d4c5b",
   "metadata": {},
   "outputs": [],
   "source": [
    "for i in range(200):\n",
    "    EV1.fill_memory(df['Hour'][i], round(df['electricity_price'][i],2))"
   ]
  },
  {
   "cell_type": "code",
   "execution_count": 6,
   "id": "bc3423e0-59fc-4281-b07b-8a7e4ffa7d68",
   "metadata": {},
   "outputs": [],
   "source": [
    "EV1.average_memory()"
   ]
  },
  {
   "cell_type": "code",
   "execution_count": 7,
   "id": "3c97416b-79cf-4918-b6de-0bb718755314",
   "metadata": {},
   "outputs": [],
   "source": [
    "EV1.choose_cheapest_timesteps(21,25,0)"
   ]
  },
  {
   "cell_type": "code",
   "execution_count": 9,
   "id": "4aecaee9-cc14-4f22-a371-8027e32ba6c4",
   "metadata": {},
   "outputs": [],
   "source": [
    "EV1.choose_cheapest_timesteps(110,200,65)"
   ]
  },
  {
   "cell_type": "code",
   "execution_count": 10,
   "id": "38a84796-bfb5-4064-b452-2caba95c2872",
   "metadata": {},
   "outputs": [
    {
     "data": {
      "text/plain": [
       "[174, 164, 112, 172, 159, 154, 176]"
      ]
     },
     "execution_count": 10,
     "metadata": {},
     "output_type": "execute_result"
    }
   ],
   "source": [
    "EV1.cheapest_timesteps"
   ]
  },
  {
   "cell_type": "code",
   "execution_count": null,
   "id": "960cd71b-804a-4725-ab0e-62839dd8b3a2",
   "metadata": {},
   "outputs": [],
   "source": []
  },
  {
   "cell_type": "code",
   "execution_count": null,
   "id": "edc6c737-7e37-4d8d-9c51-052e85970224",
   "metadata": {},
   "outputs": [],
   "source": [
    "    def choose_cheapest_timesteps(self,starting_time,ending_time,charge_needed):\n",
    "        '''This function will tell you the most economic (cheap) way of getting to a full charge within the time window, if possible\n",
    "           The start and end time are ticks of 1 hour atm\n",
    "           Charge needed still abstract/dimensionless, the amount of energy the car needs e.g. full or like 75% idc\n",
    "           \n",
    "           \n",
    "           Function use:\n",
    "           input starting and ending time of charge \n",
    "           function outputs cheapest predicted hours (ticks count of hour)\n",
    "           hours can be set to charging? = true using this\n",
    "        '''\n",
    "        if starting_time%96 < ending_time%96:\n",
    "            total_time_window = self.average_price_memory[starting_time%96:ending_time%96] #e.g. charging from 1AM to 3PM is from 1:00 - 3:00\n",
    "        else:\n",
    "            total_time_window = self.average_price_memory[starting_time%96:] + self.average_price_memory[:ending_time%96]\n",
    "        timesteps_needed = math.ceil(charge_needed/self.charging_speed)\n",
    "        if timesteps_needed > (abs(ending_time-starting_time)):\n",
    "            print('total time is insufficient to charge to full. Charging commencing immediately')\n",
    "            return [i for i in range(starting_time,ending_time)]\n",
    "\n",
    "        timewindow_copy = total_time_window.copy()\n",
    "        timewindow_copy.sort()\n",
    "        cheapest_values = timewindow_copy[:timesteps_needed]\n",
    "        for i in cheapest_values:\n",
    "            new_entry = total_time_window.index(i) + starting_time\n",
    "            cheapest_starting_timesteps.append(new_entry)\n",
    "            total_time_window.pop\n",
    "\n",
    "        print('the cheapest hour to start are hours {} with a total value of {}'.format(cheapest_starting_timesteps,cheapest_values))"
   ]
  }
 ],
 "metadata": {
  "kernelspec": {
   "display_name": "Python 3 (ipykernel)",
   "language": "python",
   "name": "python3"
  },
  "language_info": {
   "codemirror_mode": {
    "name": "ipython",
    "version": 3
   },
   "file_extension": ".py",
   "mimetype": "text/x-python",
   "name": "python",
   "nbconvert_exporter": "python",
   "pygments_lexer": "ipython3",
   "version": "3.9.7"
  }
 },
 "nbformat": 4,
 "nbformat_minor": 5
}
