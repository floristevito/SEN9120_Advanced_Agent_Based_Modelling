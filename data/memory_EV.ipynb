{
 "cells": [
  {
   "cell_type": "code",
   "execution_count": 1,
   "id": "5b18a23c-f0b6-42d7-ba6b-997e77bbe3a5",
   "metadata": {},
   "outputs": [],
   "source": [
    "import pandas as pd\n",
    "import numpy as np\n",
    "import math"
   ]
  },
  {
   "cell_type": "code",
   "execution_count": 2,
   "id": "5477f6da-6555-49bc-a91d-196c45abc41e",
   "metadata": {},
   "outputs": [],
   "source": [
    "df = pd.read_csv('testing_hour_prices2.csv', sep=';',decimal = ',')\n"
   ]
  },
  {
   "cell_type": "code",
   "execution_count": 3,
   "id": "a34d803d-c364-43fe-8251-214046040aef",
   "metadata": {},
   "outputs": [
    {
     "data": {
      "text/html": [
       "<div>\n",
       "<style scoped>\n",
       "    .dataframe tbody tr th:only-of-type {\n",
       "        vertical-align: middle;\n",
       "    }\n",
       "\n",
       "    .dataframe tbody tr th {\n",
       "        vertical-align: top;\n",
       "    }\n",
       "\n",
       "    .dataframe thead th {\n",
       "        text-align: right;\n",
       "    }\n",
       "</style>\n",
       "<table border=\"1\" class=\"dataframe\">\n",
       "  <thead>\n",
       "    <tr style=\"text-align: right;\">\n",
       "      <th></th>\n",
       "      <th>Hour</th>\n",
       "      <th>electricity_price</th>\n",
       "    </tr>\n",
       "  </thead>\n",
       "  <tbody>\n",
       "    <tr>\n",
       "      <th>0</th>\n",
       "      <td>1</td>\n",
       "      <td>0.04</td>\n",
       "    </tr>\n",
       "    <tr>\n",
       "      <th>1</th>\n",
       "      <td>2</td>\n",
       "      <td>2.73</td>\n",
       "    </tr>\n",
       "    <tr>\n",
       "      <th>2</th>\n",
       "      <td>3</td>\n",
       "      <td>4.40</td>\n",
       "    </tr>\n",
       "    <tr>\n",
       "      <th>3</th>\n",
       "      <td>4</td>\n",
       "      <td>2.68</td>\n",
       "    </tr>\n",
       "    <tr>\n",
       "      <th>4</th>\n",
       "      <td>5</td>\n",
       "      <td>2.63</td>\n",
       "    </tr>\n",
       "    <tr>\n",
       "      <th>...</th>\n",
       "      <td>...</td>\n",
       "      <td>...</td>\n",
       "    </tr>\n",
       "    <tr>\n",
       "      <th>244</th>\n",
       "      <td>245</td>\n",
       "      <td>9.59</td>\n",
       "    </tr>\n",
       "    <tr>\n",
       "      <th>245</th>\n",
       "      <td>246</td>\n",
       "      <td>8.31</td>\n",
       "    </tr>\n",
       "    <tr>\n",
       "      <th>246</th>\n",
       "      <td>247</td>\n",
       "      <td>0.34</td>\n",
       "    </tr>\n",
       "    <tr>\n",
       "      <th>247</th>\n",
       "      <td>248</td>\n",
       "      <td>1.74</td>\n",
       "    </tr>\n",
       "    <tr>\n",
       "      <th>248</th>\n",
       "      <td>249</td>\n",
       "      <td>9.87</td>\n",
       "    </tr>\n",
       "  </tbody>\n",
       "</table>\n",
       "<p>249 rows × 2 columns</p>\n",
       "</div>"
      ],
      "text/plain": [
       "     Hour  electricity_price\n",
       "0       1               0.04\n",
       "1       2               2.73\n",
       "2       3               4.40\n",
       "3       4               2.68\n",
       "4       5               2.63\n",
       "..    ...                ...\n",
       "244   245               9.59\n",
       "245   246               8.31\n",
       "246   247               0.34\n",
       "247   248               1.74\n",
       "248   249               9.87\n",
       "\n",
       "[249 rows x 2 columns]"
      ]
     },
     "execution_count": 3,
     "metadata": {},
     "output_type": "execute_result"
    }
   ],
   "source": [
    "df"
   ]
  },
  {
   "cell_type": "code",
   "execution_count": 4,
   "id": "8941bccc-e7c7-4c89-845b-9f840e8e294b",
   "metadata": {},
   "outputs": [],
   "source": [
    "class EV:\n",
    "    def __init__(self, name, charge_init):\n",
    "        self.name = name\n",
    "        self.charge_init = charge_init\n",
    "        self.charging_speed = 10\n",
    "        self.price_memory = [[] for i in range(96)]\n",
    "        self.average_price_memory = []\n",
    "        \n",
    "    \n",
    "    def fill_memory(self, current_hour, electricity_price):\n",
    "        '''\n",
    "        Fills the memory of agents with the previous prices\n",
    "        \n",
    "        SHOULD BE DONE ON SUPERCLASS LEVEL TO SAVE DATA AND COMPUTATIONS\n",
    "        \n",
    "        '''\n",
    "        \n",
    "        self.price_memory[(current_hour %96) - 1].append(electricity_price)\n",
    "        \n",
    "    def average_memory(self):\n",
    "        '''\n",
    "        From self.price_memory creates avarage prices for a 24h cycle\n",
    "        \n",
    "        Could be expanded to a 4*24h cycle if wanted\n",
    "        \n",
    "        '''\n",
    "        self.average_price_memory = [round(np.mean(self.price_memory[i]),2) for i in range(len(self.price_memory))]\n",
    "    \n",
    "    \n",
    "    def choose_cheapest_timesteps(self,starting_time,ending_time,charge_needed):\n",
    "        '''This function will tell you the most economic (cheap) way of getting to a full charge within the time window, if possible\n",
    "           The start and end time are ticks of 1 hour atm\n",
    "           Charge needed still abstract/dimensionless, the amount of energy the car needs e.g. full or like 75% idc\n",
    "           \n",
    "           \n",
    "           Function use:\n",
    "           input starting and ending time of charge \n",
    "           function outputs cheapest predicted hours (ticks count of hour)\n",
    "           hours can be set to charging? = true using this\n",
    "        '''\n",
    "        if starting_time%96 < ending_time%96:\n",
    "            total_time_window = self.average_price_memory[starting_time%96:ending_time%96] #e.g. charging from 1AM to 3PM is from 1:00 - 3:00\n",
    "        else:\n",
    "            total_time_window = self.average_price_memory[starting_time%96:] + self.average_price_memory[:ending_time%96]\n",
    "        timesteps_needed = math.ceil(charge_needed/self.charging_speed)\n",
    "        if timesteps_needed > (abs(ending_time-starting_time)):\n",
    "            print('total time is insufficient to charge to full. Charging commencing immediately')\n",
    "            return [i for i in range(starting_time,ending_time)]\n",
    "\n",
    "        timewindow_copy = total_time_window.copy()\n",
    "        timewindow_copy.sort()\n",
    "        cheapest_values = timewindow_copy[:timesteps_needed]\n",
    "        for i in cheapest_values:\n",
    "            new_entry = total_time_window.index(i) + starting_time\n",
    "            cheapest_starting_timesteps.append(new_entry)\n",
    "            total_time_window.pop\n",
    "\n",
    "        print('the cheapest hour to start are hours {} with a total value of {}'.format(cheapest_starting_timesteps,cheapest_values))\n",
    "        \n",
    "        \n",
    "        "
   ]
  },
  {
   "cell_type": "code",
   "execution_count": null,
   "id": "3bb21052-c4d5-466d-9cf6-808fca54c268",
   "metadata": {},
   "outputs": [],
   "source": []
  },
  {
   "cell_type": "code",
   "execution_count": 5,
   "id": "88e14ab1-f74a-4459-a567-ccab3c3bed3c",
   "metadata": {},
   "outputs": [],
   "source": [
    "EV1 = EV('test',20)"
   ]
  },
  {
   "cell_type": "code",
   "execution_count": 6,
   "id": "576f6b82-2a18-4b7f-b213-9b68f17d4c5b",
   "metadata": {},
   "outputs": [],
   "source": [
    "for i in range(200):\n",
    "    EV1.fill_memory(df['Hour'][i], round(df['electricity_price'][i],2))"
   ]
  },
  {
   "cell_type": "code",
   "execution_count": 7,
   "id": "15a09b12-7278-4fc4-a01c-d65bf154af9a",
   "metadata": {
    "tags": []
   },
   "outputs": [
    {
     "data": {
      "text/plain": [
       "[[0.04, 6.51, 9.24],\n",
       " [2.73, 9.52, 0.95],\n",
       " [4.4, 5.69, 7.13],\n",
       " [2.68, 0.93, 8.43],\n",
       " [2.63, 6.21, 5.23],\n",
       " [0.62, 6.8, 4.28],\n",
       " [8.56, 6.36, 5.59],\n",
       " [3.24, 3.67, 1.93],\n",
       " [2.98, 6.77],\n",
       " [9.36, 5.6],\n",
       " [7.89, 0.5],\n",
       " [0.69, 8.33],\n",
       " [8.58, 8.94],\n",
       " [1.32, 2.25],\n",
       " [7.81, 9.34],\n",
       " [0.03, 6.45],\n",
       " [1.58, 1.43],\n",
       " [0.73, 4.41],\n",
       " [1.2, 9.69],\n",
       " [9.43, 2.2],\n",
       " [9.48, 7.68],\n",
       " [3.56, 5.75],\n",
       " [5.12, 5.05],\n",
       " [7.5, 4.45],\n",
       " [8.25, 8.15],\n",
       " [1.22, 7.71],\n",
       " [2.56, 8.17],\n",
       " [8.07, 4.05],\n",
       " [1.35, 4.03],\n",
       " [0.41, 6.97],\n",
       " [4.03, 8.22],\n",
       " [5.28, 4.04],\n",
       " [9.23, 9.59],\n",
       " [6.97, 2.84],\n",
       " [4.9, 6.9],\n",
       " [4.0, 3.16],\n",
       " [0.79, 9.82],\n",
       " [3.33, 1.79],\n",
       " [4.03, 7.53],\n",
       " [8.08, 8.84],\n",
       " [3.79, 1.47],\n",
       " [7.26, 2.82],\n",
       " [2.13, 6.12],\n",
       " [6.34, 6.92],\n",
       " [1.62, 6.35],\n",
       " [5.98, 9.3],\n",
       " [8.47, 8.62],\n",
       " [2.32, 9.71],\n",
       " [1.69, 9.66],\n",
       " [7.41, 0.95],\n",
       " [7.02, 7.13],\n",
       " [9.04, 6.67],\n",
       " [4.42, 3.65],\n",
       " [9.1, 9.3],\n",
       " [1.95, 4.95],\n",
       " [1.24, 9.17],\n",
       " [3.8, 7.33],\n",
       " [7.01, 4.77],\n",
       " [1.32, 2.78],\n",
       " [3.25, 3.88],\n",
       " [9.47, 8.02],\n",
       " [7.52, 1.94],\n",
       " [1.78, 4.2],\n",
       " [3.99, 0.57],\n",
       " [5.38, 2.24],\n",
       " [7.42, 6.66],\n",
       " [6.34, 0.6],\n",
       " [9.47, 5.39],\n",
       " [0.17, 1.73],\n",
       " [9.63, 6.4],\n",
       " [5.1, 2.67],\n",
       " [5.52, 9.84],\n",
       " [0.96, 9.32],\n",
       " [3.6, 1.08],\n",
       " [8.15, 2.15],\n",
       " [8.02, 3.69],\n",
       " [2.94, 0.27],\n",
       " [4.45, 2.11],\n",
       " [0.58, 1.24],\n",
       " [3.83, 1.31],\n",
       " [0.75, 3.83],\n",
       " [2.46, 4.61],\n",
       " [4.72, 2.14],\n",
       " [3.8, 1.69],\n",
       " [4.32, 3.13],\n",
       " [2.71, 3.31],\n",
       " [5.23, 3.65],\n",
       " [0.27, 5.98],\n",
       " [5.16, 1.7],\n",
       " [8.93, 7.31],\n",
       " [6.82, 0.88],\n",
       " [7.68, 3.33],\n",
       " [7.78, 4.3],\n",
       " [6.78, 5.54],\n",
       " [0.06, 6.7],\n",
       " [0.13, 7.16]]"
      ]
     },
     "execution_count": 7,
     "metadata": {},
     "output_type": "execute_result"
    }
   ],
   "source": [
    "EV1.price_memory"
   ]
  },
  {
   "cell_type": "code",
   "execution_count": 8,
   "id": "bc3423e0-59fc-4281-b07b-8a7e4ffa7d68",
   "metadata": {},
   "outputs": [],
   "source": [
    "EV1.average_memory()"
   ]
  },
  {
   "cell_type": "code",
   "execution_count": 9,
   "id": "3b0552c0-85ba-4aba-9777-8f82227e1c23",
   "metadata": {
    "tags": []
   },
   "outputs": [
    {
     "data": {
      "text/plain": [
       "[5.26,\n",
       " 4.4,\n",
       " 5.74,\n",
       " 4.01,\n",
       " 4.69,\n",
       " 3.9,\n",
       " 6.84,\n",
       " 2.95,\n",
       " 4.88,\n",
       " 7.48,\n",
       " 4.2,\n",
       " 4.51,\n",
       " 8.76,\n",
       " 1.78,\n",
       " 8.57,\n",
       " 3.24,\n",
       " 1.5,\n",
       " 2.57,\n",
       " 5.44,\n",
       " 5.82,\n",
       " 8.58,\n",
       " 4.66,\n",
       " 5.08,\n",
       " 5.98,\n",
       " 8.2,\n",
       " 4.46,\n",
       " 5.36,\n",
       " 6.06,\n",
       " 2.69,\n",
       " 3.69,\n",
       " 6.12,\n",
       " 4.66,\n",
       " 9.41,\n",
       " 4.9,\n",
       " 5.9,\n",
       " 3.58,\n",
       " 5.3,\n",
       " 2.56,\n",
       " 5.78,\n",
       " 8.46,\n",
       " 2.63,\n",
       " 5.04,\n",
       " 4.12,\n",
       " 6.63,\n",
       " 3.98,\n",
       " 7.64,\n",
       " 8.54,\n",
       " 6.02,\n",
       " 5.68,\n",
       " 4.18,\n",
       " 7.07,\n",
       " 7.86,\n",
       " 4.04,\n",
       " 9.2,\n",
       " 3.45,\n",
       " 5.2,\n",
       " 5.56,\n",
       " 5.89,\n",
       " 2.05,\n",
       " 3.56,\n",
       " 8.75,\n",
       " 4.73,\n",
       " 2.99,\n",
       " 2.28,\n",
       " 3.81,\n",
       " 7.04,\n",
       " 3.47,\n",
       " 7.43,\n",
       " 0.95,\n",
       " 8.02,\n",
       " 3.88,\n",
       " 7.68,\n",
       " 5.14,\n",
       " 2.34,\n",
       " 5.15,\n",
       " 5.86,\n",
       " 1.6,\n",
       " 3.28,\n",
       " 0.91,\n",
       " 2.57,\n",
       " 2.29,\n",
       " 3.54,\n",
       " 3.43,\n",
       " 2.74,\n",
       " 3.72,\n",
       " 3.01,\n",
       " 4.44,\n",
       " 3.12,\n",
       " 3.43,\n",
       " 8.12,\n",
       " 3.85,\n",
       " 5.5,\n",
       " 6.04,\n",
       " 6.16,\n",
       " 3.38,\n",
       " 3.64]"
      ]
     },
     "execution_count": 9,
     "metadata": {},
     "output_type": "execute_result"
    }
   ],
   "source": [
    "EV1.average_price_memory"
   ]
  },
  {
   "cell_type": "code",
   "execution_count": 17,
   "id": "3c97416b-79cf-4918-b6de-0bb718755314",
   "metadata": {},
   "outputs": [
    {
     "name": "stdout",
     "output_type": "stream",
     "text": [
      "the cheapest hour to start are hours [] with a total value of []\n"
     ]
    }
   ],
   "source": [
    "EV1.choose_cheapest_timesteps(21,25,0)"
   ]
  },
  {
   "cell_type": "code",
   "execution_count": 11,
   "id": "4aecaee9-cc14-4f22-a371-8027e32ba6c4",
   "metadata": {},
   "outputs": [
    {
     "name": "stdout",
     "output_type": "stream",
     "text": [
      "the cheapest hour to start are hours [174, 164, 112, 172, 154, 159, 176] with a total value of [0.91, 0.95, 1.5, 1.6, 2.05, 2.28, 2.29]\n"
     ]
    }
   ],
   "source": [
    "EV1.choose_cheapest_timesteps(110,200,65)"
   ]
  },
  {
   "cell_type": "code",
   "execution_count": 12,
   "id": "2a263c55-e9c5-4c08-9d95-0a895ca42a7f",
   "metadata": {},
   "outputs": [],
   "source": [
    "b = EV1.average_price_memory"
   ]
  },
  {
   "cell_type": "code",
   "execution_count": 13,
   "id": "2fff3819-293a-4507-ad84-62df0642e659",
   "metadata": {},
   "outputs": [
    {
     "name": "stdout",
     "output_type": "stream",
     "text": [
      "[5.26, 4.4, 5.74, 4.01, 4.69, 3.9, 6.84, 2.95, 4.88, 7.48, 4.2, 4.51, 8.76, 1.78, 8.57, 3.24, 1.5, 2.57, 5.44, 5.82, 8.58, 4.66, 5.08, 5.98, 8.2, 4.46, 5.36, 6.06, 2.69, 3.69, 6.12, 4.66, 9.41, 4.9, 5.9, 3.58, 5.3, 2.56, 5.78, 8.46, 2.63, 5.04, 4.12, 6.63, 3.98, 7.64, 8.54, 6.02, 5.68, 4.18, 7.07, 7.86, 4.04, 9.2, 3.45, 5.2, 5.56, 5.89, 2.05, 3.56, 8.75, 4.73, 2.99, 2.28, 3.81, 7.04, 3.47, 7.43, 0.95, 8.02, 3.88, 7.68, 5.14, 2.34, 5.15, 5.86, 1.6, 3.28, 0.91, 2.57, 2.29, 3.54, 3.43, 2.74, 3.72, 3.01, 4.44, 3.12, 3.43, 8.12, 3.85, 5.5, 6.04, 6.16, 3.38, 3.64]\n"
     ]
    }
   ],
   "source": [
    "print(b)"
   ]
  },
  {
   "cell_type": "code",
   "execution_count": 14,
   "id": "b859dcb5-ccba-4f4e-a885-d86ff0339a01",
   "metadata": {},
   "outputs": [
    {
     "ename": "SyntaxError",
     "evalue": "invalid syntax (Temp/ipykernel_14452/388956101.py, line 2)",
     "output_type": "error",
     "traceback": [
      "\u001b[1;36m  File \u001b[1;32m\"C:\\Users\\Windows\\AppData\\Local\\Temp/ipykernel_14452/388956101.py\"\u001b[1;36m, line \u001b[1;32m2\u001b[0m\n\u001b[1;33m    c = del total_time_window[10%96:21%96]\u001b[0m\n\u001b[1;37m        ^\u001b[0m\n\u001b[1;31mSyntaxError\u001b[0m\u001b[1;31m:\u001b[0m invalid syntax\n"
     ]
    }
   ],
   "source": [
    "total_time_window = b.copy()\n",
    "c = del total_time_window[10%96:21%96]\n",
    "#print('time_window:')\n",
    "c"
   ]
  },
  {
   "cell_type": "code",
   "execution_count": 32,
   "id": "98ad8d64-f06a-40b9-9fc4-f06f937335ea",
   "metadata": {},
   "outputs": [
    {
     "data": {
      "text/plain": [
       "[10, 10, 12, 13, 1, 2, 3, 4, 5, 6, 19, 45, 23, 22, 33, 44, 55, 66, 77, 88]"
      ]
     },
     "execution_count": 32,
     "metadata": {},
     "output_type": "execute_result"
    }
   ],
   "source": [
    "q = [10,10,12,13,1,2,3,4,5,6]\n",
    "g = [19,45,23,22,33,44,55,66,77,88]\n",
    "aa = q+g\n",
    "aa"
   ]
  },
  {
   "cell_type": "code",
   "execution_count": null,
   "id": "8001daae-f765-49ce-94c2-d8b2c6601c2e",
   "metadata": {},
   "outputs": [],
   "source": [
    "b[:10]\n",
    "b[22:]"
   ]
  },
  {
   "cell_type": "code",
   "execution_count": 20,
   "id": "58b32275-7165-4b85-b4a2-9bd94e633ea2",
   "metadata": {},
   "outputs": [],
   "source": [
    "q.remove(10)"
   ]
  },
  {
   "cell_type": "code",
   "execution_count": 33,
   "id": "2cbe6b0d-f919-452c-a881-c097b20b2f2d",
   "metadata": {},
   "outputs": [
    {
     "data": {
      "text/plain": [
       "[10, 10, 12, 13, 1, 2, 3, 4, 5, 6]"
      ]
     },
     "execution_count": 33,
     "metadata": {},
     "output_type": "execute_result"
    }
   ],
   "source": [
    "q"
   ]
  },
  {
   "cell_type": "code",
   "execution_count": 36,
   "id": "37f83cf8-f0d8-4db8-840e-3613dd73077f",
   "metadata": {},
   "outputs": [
    {
     "name": "stdout",
     "output_type": "stream",
     "text": [
      "[4] [10, 10, 12, 13]\n",
      "[4, 0] [10, 12, 13]\n",
      "[4, 0, 0] [12, 13]\n",
      "[4, 0, 0, 0] [13]\n",
      "[4, 0, 0, 0, 0] []\n"
     ]
    }
   ],
   "source": [
    "timewindow_copy = q.copy()\n",
    "timewindow_copy.sort()\n",
    "cheapest_values = timewindow_copy[:5]\n",
    "#print(cheapest_values)\n",
    "cheapest_starting_timestepsss = []\n",
    "for i in cheapest_values:\n",
    "        new_entry = q.index(i)\n",
    "        cheapest_starting_timestepsss.append(new_entry)\n",
    "        \n",
    "        q.remove(i)\n",
    "        print(cheapest_starting_timestepsss,q)"
   ]
  },
  {
   "cell_type": "code",
   "execution_count": 34,
   "id": "2e033156-63bf-4ca2-a1d7-4e7085454ff7",
   "metadata": {},
   "outputs": [
    {
     "data": {
      "text/plain": [
       "[10, 10, 12, 13, 1, 2, 3, 4, 5, 6]"
      ]
     },
     "execution_count": 34,
     "metadata": {},
     "output_type": "execute_result"
    }
   ],
   "source": [
    "timewindow_copy = q.copy()\n",
    "timewindow_copy"
   ]
  },
  {
   "cell_type": "code",
   "execution_count": null,
   "id": "38dac7f1-6152-4272-8fc6-69653b961480",
   "metadata": {},
   "outputs": [],
   "source": [
    "a = [5.98,3.91,5.82,5.73,3.41,4.89,4.61,3.75,\n",
    "     5.54,5.45,3.89,3.6,6.63,3.02,5.45,4.28,2.84,5.69,4.22,6.35,4.89,6.62,5.22,5.83]"
   ]
  },
  {
   "cell_type": "code",
   "execution_count": null,
   "id": "6edf968c-a163-4ef2-b5ec-5c0b4642083d",
   "metadata": {},
   "outputs": [],
   "source": [
    "def choose_cheapest_hours2(charging_speed,charge_needed,average_prices):\n",
    "        timeslots = []\n",
    "        hours_needed = math.ceil(charge_needed/charging_speed)\n",
    "        for i in range(len(average_prices)+1):\n",
    "            hour_subset = []\n",
    "            for j in range(3):\n",
    "                hour_subset.append(a[(i+j)%24])\n",
    "            timeslots.append(round(sum(hour_subset),3))\n",
    "        \n",
    "        cheapest_starting_hour = np.argmin(timeslots) \n",
    "        value = timeslots[np.argmin(timeslots)]\n",
    "        print('the cheapest hour to start is hour {} with a total value of {}'.format(cheapest_starting_hour,value))\n",
    "        return timeslots\n",
    "           \n",
    "        "
   ]
  },
  {
   "cell_type": "code",
   "execution_count": null,
   "id": "3d800ba2-5a5c-4c63-9ea1-60e68ccf952d",
   "metadata": {
    "tags": []
   },
   "outputs": [],
   "source": [
    "choose_cheapest_hours(5,15,a)\n"
   ]
  },
  {
   "cell_type": "code",
   "execution_count": null,
   "id": "4a704d8c-2c67-44ed-bb11-bda6592f6517",
   "metadata": {},
   "outputs": [],
   "source": [
    "def choose_cheapest_hours(starting_time,ending_time,charging_speed,charge_needed,average_daily_prices):\n",
    "        '''This function will tell you the most economic (cheap) way of getting to a full charge within the time window, if possible\n",
    "        The function does still assume a time that goes from 0 to 23 (1 day), but that can be amended by %izing the start and end time'''\n",
    "        if starting_time%24 < ending_time%24:\n",
    "            total_time_window = average_daily_prices[starting_time%24:ending_time%24] #e.g. charging from 1AM to 3PM is from 1:00 - 3:00\n",
    "        else:\n",
    "            total_time_window = average_daily_prices.copy()\n",
    "            del total_time_window[ending_time%24:starting_time%24]\n",
    "            print('time_window:')\n",
    "        print(total_time_window)\n",
    "        hours_needed = math.ceil(charge_needed/charging_speed)\n",
    "        if hours_needed > (abs(ending_time-starting_time)):\n",
    "            print('total time is insufficient to charge to full. Charging commencing immediately')\n",
    "            return starting_time\n",
    "        \n",
    "        #timeslots_prices = []                                                This function assumed all needed to be in one line after each other\n",
    "        #for i in range(len(total_time_window)+1):                            However that is not the case\n",
    "            #hour_subset = []          \n",
    "            #for j in range(3):\n",
    "                #hour_subset.append(total_time_window[(i+j)%len(total_time_window)])\n",
    "            #timeslots_prices.append(round(sum(hour_subset),3))\n",
    "        timewindow_copy = total_time_window.copy()\n",
    "        timewindow_copy.sort()\n",
    "        cheapest_values = timewindow_copy[:hours_needed]\n",
    "        cheapest_starting_hours = [total_time_window.index(i) + starting_time for i in cheapest_values]\n",
    "        \n",
    "            \n",
    "            \n",
    "        \n",
    "        \n",
    "        print('the cheapest hour to start are hours {} with a total value of {}'.format(cheapest_starting_hours,cheapest_values))\n",
    "        \n",
    "           "
   ]
  },
  {
   "cell_type": "code",
   "execution_count": null,
   "id": "76f80026-a672-4dd9-b82b-a391147cd261",
   "metadata": {},
   "outputs": [],
   "source": [
    "choose_cheapest_hours(15,8,5,15,a)"
   ]
  },
  {
   "cell_type": "code",
   "execution_count": null,
   "id": "8bb80057-0110-488b-9db9-320709578532",
   "metadata": {},
   "outputs": [],
   "source": [
    "def choose_cheapest_hours(starting_time,ending_time,charging_speed,charge_needed,average_daily_prices):\n",
    "        '''This function will tell you the most economic (cheap) way of getting to a full charge within the time window, if possible\n",
    "        The function does still assume a time that goes from 0 to 23 (1 day), but that can be amended by %izing the start and end time'''\n",
    "        if starting_time%24 < ending_time%24:\n",
    "            total_time_window = average_daily_prices[starting_time%24:ending_time%24] #e.g. charging from 1AM to 3PM is from 1:00 - 3:00\n",
    "        else:\n",
    "            total_time_window = average_daily_prices.copy()\n",
    "            del total_time_window[ending_time%24:starting_time%24]\n",
    "            print('time_window:')\n",
    "        \n",
    "        hours_needed = math.ceil(charge_needed/charging_speed)\n",
    "        if hours_needed > (abs(ending_time-starting_time)):\n",
    "            print('total time is insufficient to charge to full. Charging commencing immediately')\n",
    "            return starting_time\n",
    "\n",
    "        timewindow_copy = total_time_window.copy()\n",
    "        timewindow_copy.sort()\n",
    "        cheapest_values = timewindow_copy[:hours_needed]\n",
    "        cheapest_starting_hours = [total_time_window.index(i) + starting_time for i in cheapest_values]\n",
    "\n",
    "        print('the cheapest hour to start are hours {} with a total value of {}'.format(cheapest_starting_hours,cheapest_values))"
   ]
  }
 ],
 "metadata": {
  "kernelspec": {
   "display_name": "Python 3 (ipykernel)",
   "language": "python",
   "name": "python3"
  },
  "language_info": {
   "codemirror_mode": {
    "name": "ipython",
    "version": 3
   },
   "file_extension": ".py",
   "mimetype": "text/x-python",
   "name": "python",
   "nbconvert_exporter": "python",
   "pygments_lexer": "ipython3",
   "version": "3.9.7"
  }
 },
 "nbformat": 4,
 "nbformat_minor": 5
}
