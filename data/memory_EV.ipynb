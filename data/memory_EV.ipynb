{
 "cells": [
  {
   "cell_type": "code",
   "execution_count": 1,
   "id": "5b18a23c-f0b6-42d7-ba6b-997e77bbe3a5",
   "metadata": {},
   "outputs": [],
   "source": [
    "import pandas as pd\n",
    "import numpy as np\n",
    "import math"
   ]
  },
  {
   "cell_type": "code",
   "execution_count": 2,
   "id": "5477f6da-6555-49bc-a91d-196c45abc41e",
   "metadata": {},
   "outputs": [],
   "source": [
    "df = pd.read_csv('testing_hour_prices2.csv', sep=';',decimal = ',')\n"
   ]
  },
  {
   "cell_type": "code",
   "execution_count": 3,
   "id": "a34d803d-c364-43fe-8251-214046040aef",
   "metadata": {},
   "outputs": [
    {
     "data": {
      "text/html": [
       "<div>\n",
       "<style scoped>\n",
       "    .dataframe tbody tr th:only-of-type {\n",
       "        vertical-align: middle;\n",
       "    }\n",
       "\n",
       "    .dataframe tbody tr th {\n",
       "        vertical-align: top;\n",
       "    }\n",
       "\n",
       "    .dataframe thead th {\n",
       "        text-align: right;\n",
       "    }\n",
       "</style>\n",
       "<table border=\"1\" class=\"dataframe\">\n",
       "  <thead>\n",
       "    <tr style=\"text-align: right;\">\n",
       "      <th></th>\n",
       "      <th>Hour</th>\n",
       "      <th>electricity_price</th>\n",
       "    </tr>\n",
       "  </thead>\n",
       "  <tbody>\n",
       "    <tr>\n",
       "      <th>0</th>\n",
       "      <td>1</td>\n",
       "      <td>0.04</td>\n",
       "    </tr>\n",
       "    <tr>\n",
       "      <th>1</th>\n",
       "      <td>2</td>\n",
       "      <td>2.73</td>\n",
       "    </tr>\n",
       "    <tr>\n",
       "      <th>2</th>\n",
       "      <td>3</td>\n",
       "      <td>4.40</td>\n",
       "    </tr>\n",
       "    <tr>\n",
       "      <th>3</th>\n",
       "      <td>4</td>\n",
       "      <td>2.68</td>\n",
       "    </tr>\n",
       "    <tr>\n",
       "      <th>4</th>\n",
       "      <td>5</td>\n",
       "      <td>2.63</td>\n",
       "    </tr>\n",
       "    <tr>\n",
       "      <th>...</th>\n",
       "      <td>...</td>\n",
       "      <td>...</td>\n",
       "    </tr>\n",
       "    <tr>\n",
       "      <th>244</th>\n",
       "      <td>245</td>\n",
       "      <td>9.59</td>\n",
       "    </tr>\n",
       "    <tr>\n",
       "      <th>245</th>\n",
       "      <td>246</td>\n",
       "      <td>8.31</td>\n",
       "    </tr>\n",
       "    <tr>\n",
       "      <th>246</th>\n",
       "      <td>247</td>\n",
       "      <td>0.34</td>\n",
       "    </tr>\n",
       "    <tr>\n",
       "      <th>247</th>\n",
       "      <td>248</td>\n",
       "      <td>1.74</td>\n",
       "    </tr>\n",
       "    <tr>\n",
       "      <th>248</th>\n",
       "      <td>249</td>\n",
       "      <td>9.87</td>\n",
       "    </tr>\n",
       "  </tbody>\n",
       "</table>\n",
       "<p>249 rows × 2 columns</p>\n",
       "</div>"
      ],
      "text/plain": [
       "     Hour  electricity_price\n",
       "0       1               0.04\n",
       "1       2               2.73\n",
       "2       3               4.40\n",
       "3       4               2.68\n",
       "4       5               2.63\n",
       "..    ...                ...\n",
       "244   245               9.59\n",
       "245   246               8.31\n",
       "246   247               0.34\n",
       "247   248               1.74\n",
       "248   249               9.87\n",
       "\n",
       "[249 rows x 2 columns]"
      ]
     },
     "execution_count": 3,
     "metadata": {},
     "output_type": "execute_result"
    }
   ],
   "source": [
    "df"
   ]
  },
  {
   "cell_type": "code",
   "execution_count": 4,
   "id": "8941bccc-e7c7-4c89-845b-9f840e8e294b",
   "metadata": {},
   "outputs": [],
   "source": [
    "class EV:\n",
    "    def __init__(self, name, charge_init):\n",
    "        self.name = name\n",
    "        self.charge_init = charge_init\n",
    "        self.charging_speed = 10\n",
    "        self.price_memory = [[] for i in range(24)]\n",
    "        self.average_price_memory = []\n",
    "        \n",
    "    \n",
    "    def fill_memory(self, current_hour, electricity_price):\n",
    "        '''\n",
    "        Fills the memory of agents with the previous prices\n",
    "        \n",
    "        SHOULD BE DONE ON SUPERCLASS LEVEL TO SAVE DATA AND COMPUTATIONS\n",
    "        \n",
    "        '''\n",
    "        \n",
    "        self.price_memory[(current_hour %24) - 1].append(electricity_price)\n",
    "        \n",
    "    def average_memory(self):\n",
    "        '''\n",
    "        From self.price_memory creates avarage prices for a 24h cycle\n",
    "        \n",
    "        Could be expanded to a 7*24h cycle if wanted\n",
    "        \n",
    "        '''\n",
    "        self.average_price_memory = [round(np.mean(self.price_memory[i]),2) for i in range(len(self.price_memory))]\n",
    "    \n",
    "    \n",
    "    def choose_cheapest_hours(self,starting_time,ending_time,charge_needed):\n",
    "        '''This function will tell you the most economic (cheap) way of getting to a full charge within the time window, if possible\n",
    "           The start and end time are ticks of 1 hour atm\n",
    "           Charge needed still abstract/dimensionless, the amount of energy the car needs e.g. full or like 75% idc\n",
    "           \n",
    "           \n",
    "           Function use:\n",
    "           input starting and ending time of charge \n",
    "           function outputs cheapest predicted hours (ticks count of hour)\n",
    "           hours can be set to charging? = true using this\n",
    "        '''\n",
    "        if starting_time%24 < ending_time%24:\n",
    "            total_time_window = self.average_price_memory[starting_time%24:ending_time%24] #e.g. charging from 1AM to 3PM is from 1:00 - 3:00\n",
    "        else:\n",
    "            total_time_window = self.average_price_memory.copy()\n",
    "            del total_time_window[ending_time%24:starting_time%24]\n",
    "            print('time_window:')\n",
    "            print(total_time_window)\n",
    "        hours_needed = math.ceil(charge_needed/self.charging_speed)\n",
    "        if hours_needed > (abs(ending_time-starting_time)):\n",
    "            print('total time is insufficient to charge to full. Charging commencing immediately')\n",
    "            return starting_time\n",
    "\n",
    "        timewindow_copy = total_time_window.copy()\n",
    "        timewindow_copy.sort()\n",
    "        cheapest_values = timewindow_copy[:hours_needed]\n",
    "        cheapest_starting_hours = [total_time_window.index(i) + starting_time for i in cheapest_values]\n",
    "\n",
    "        print('the cheapest hour to start are hours {} with a total value of {}'.format(cheapest_starting_hours,cheapest_values))\n",
    "        \n",
    "        \n",
    "        "
   ]
  },
  {
   "cell_type": "code",
   "execution_count": 5,
   "id": "88e14ab1-f74a-4459-a567-ccab3c3bed3c",
   "metadata": {},
   "outputs": [],
   "source": [
    "EV1 = EV('test',20)"
   ]
  },
  {
   "cell_type": "code",
   "execution_count": 6,
   "id": "576f6b82-2a18-4b7f-b213-9b68f17d4c5b",
   "metadata": {},
   "outputs": [],
   "source": [
    "for i in range(200):\n",
    "    EV1.fill_memory(df['Hour'][i], round(df['electricity_price'][i],2))"
   ]
  },
  {
   "cell_type": "code",
   "execution_count": 7,
   "id": "15a09b12-7278-4fc4-a01c-d65bf154af9a",
   "metadata": {
    "tags": []
   },
   "outputs": [
    {
     "data": {
      "text/plain": [
       "[[0.04, 8.25, 1.69, 0.96, 6.51, 8.15, 9.66, 9.32, 9.24],\n",
       " [2.73, 1.22, 7.41, 3.6, 9.52, 7.71, 0.95, 1.08, 0.95],\n",
       " [4.4, 2.56, 7.02, 8.15, 5.69, 8.17, 7.13, 2.15, 7.13],\n",
       " [2.68, 8.07, 9.04, 8.02, 0.93, 4.05, 6.67, 3.69, 8.43],\n",
       " [2.63, 1.35, 4.42, 2.94, 6.21, 4.03, 3.65, 0.27, 5.23],\n",
       " [0.62, 0.41, 9.1, 4.45, 6.8, 6.97, 9.3, 2.11, 4.28],\n",
       " [8.56, 4.03, 1.95, 0.58, 6.36, 8.22, 4.95, 1.24, 5.59],\n",
       " [3.24, 5.28, 1.24, 3.83, 3.67, 4.04, 9.17, 1.31, 1.93],\n",
       " [2.98, 9.23, 3.8, 0.75, 6.77, 9.59, 7.33, 3.83],\n",
       " [9.36, 6.97, 7.01, 2.46, 5.6, 2.84, 4.77, 4.61],\n",
       " [7.89, 4.9, 1.32, 4.72, 0.5, 6.9, 2.78, 2.14],\n",
       " [0.69, 4.0, 3.25, 3.8, 8.33, 3.16, 3.88, 1.69],\n",
       " [8.58, 0.79, 9.47, 4.32, 8.94, 9.82, 8.02, 3.13],\n",
       " [1.32, 3.33, 7.52, 2.71, 2.25, 1.79, 1.94, 3.31],\n",
       " [7.81, 4.03, 1.78, 5.23, 9.34, 7.53, 4.2, 3.65],\n",
       " [0.03, 8.08, 3.99, 0.27, 6.45, 8.84, 0.57, 5.98],\n",
       " [1.58, 3.79, 5.38, 5.16, 1.43, 1.47, 2.24, 1.7],\n",
       " [0.73, 7.26, 7.42, 8.93, 4.41, 2.82, 6.66, 7.31],\n",
       " [1.2, 2.13, 6.34, 6.82, 9.69, 6.12, 0.6, 0.88],\n",
       " [9.43, 6.34, 9.47, 7.68, 2.2, 6.92, 5.39, 3.33],\n",
       " [9.48, 1.62, 0.17, 7.78, 7.68, 6.35, 1.73, 4.3],\n",
       " [3.56, 5.98, 9.63, 6.78, 5.75, 9.3, 6.4, 5.54],\n",
       " [5.12, 8.47, 5.1, 0.06, 5.05, 8.62, 2.67, 6.7],\n",
       " [7.5, 2.32, 5.52, 0.13, 4.45, 9.71, 9.84, 7.16]]"
      ]
     },
     "execution_count": 7,
     "metadata": {},
     "output_type": "execute_result"
    }
   ],
   "source": [
    "EV1.price_memory"
   ]
  },
  {
   "cell_type": "code",
   "execution_count": 8,
   "id": "bc3423e0-59fc-4281-b07b-8a7e4ffa7d68",
   "metadata": {},
   "outputs": [],
   "source": [
    "EV1.average_memory()"
   ]
  },
  {
   "cell_type": "code",
   "execution_count": 9,
   "id": "3b0552c0-85ba-4aba-9777-8f82227e1c23",
   "metadata": {
    "tags": []
   },
   "outputs": [
    {
     "data": {
      "text/plain": [
       "[5.98,\n",
       " 3.91,\n",
       " 5.82,\n",
       " 5.73,\n",
       " 3.41,\n",
       " 4.89,\n",
       " 4.61,\n",
       " 3.75,\n",
       " 5.54,\n",
       " 5.45,\n",
       " 3.89,\n",
       " 3.6,\n",
       " 6.63,\n",
       " 3.02,\n",
       " 5.45,\n",
       " 4.28,\n",
       " 2.84,\n",
       " 5.69,\n",
       " 4.22,\n",
       " 6.35,\n",
       " 4.89,\n",
       " 6.62,\n",
       " 5.22,\n",
       " 5.83]"
      ]
     },
     "execution_count": 9,
     "metadata": {},
     "output_type": "execute_result"
    }
   ],
   "source": [
    "EV1.average_price_memory"
   ]
  },
  {
   "cell_type": "code",
   "execution_count": 10,
   "id": "3c97416b-79cf-4918-b6de-0bb718755314",
   "metadata": {},
   "outputs": [
    {
     "name": "stdout",
     "output_type": "stream",
     "text": [
      "time_window:\n",
      "[5.98, 3.91, 5.82, 5.73, 3.41, 4.89, 4.61, 6.62, 5.22, 5.83]\n",
      "the cheapest hour to start are hours [25, 22, 27, 26] with a total value of [3.41, 3.91, 4.61, 4.89]\n"
     ]
    }
   ],
   "source": [
    "EV1.choose_cheapest_hours(21,7,32)"
   ]
  },
  {
   "cell_type": "code",
   "execution_count": null,
   "id": "4aecaee9-cc14-4f22-a371-8027e32ba6c4",
   "metadata": {},
   "outputs": [],
   "source": []
  },
  {
   "cell_type": "code",
   "execution_count": null,
   "id": "2a263c55-e9c5-4c08-9d95-0a895ca42a7f",
   "metadata": {},
   "outputs": [],
   "source": []
  },
  {
   "cell_type": "code",
   "execution_count": null,
   "id": "b859dcb5-ccba-4f4e-a885-d86ff0339a01",
   "metadata": {},
   "outputs": [],
   "source": []
  },
  {
   "cell_type": "code",
   "execution_count": null,
   "id": "98ad8d64-f06a-40b9-9fc4-f06f937335ea",
   "metadata": {},
   "outputs": [],
   "source": []
  },
  {
   "cell_type": "code",
   "execution_count": null,
   "id": "8001daae-f765-49ce-94c2-d8b2c6601c2e",
   "metadata": {},
   "outputs": [],
   "source": []
  },
  {
   "cell_type": "code",
   "execution_count": null,
   "id": "58b32275-7165-4b85-b4a2-9bd94e633ea2",
   "metadata": {},
   "outputs": [],
   "source": []
  },
  {
   "cell_type": "code",
   "execution_count": null,
   "id": "2cbe6b0d-f919-452c-a881-c097b20b2f2d",
   "metadata": {},
   "outputs": [],
   "source": []
  },
  {
   "cell_type": "code",
   "execution_count": null,
   "id": "37f83cf8-f0d8-4db8-840e-3613dd73077f",
   "metadata": {},
   "outputs": [],
   "source": []
  },
  {
   "cell_type": "code",
   "execution_count": 11,
   "id": "38dac7f1-6152-4272-8fc6-69653b961480",
   "metadata": {},
   "outputs": [],
   "source": [
    "a = [5.98,3.91,5.82,5.73,3.41,4.89,4.61,3.75,\n",
    "     5.54,5.45,3.89,3.6,6.63,3.02,5.45,4.28,2.84,5.69,4.22,6.35,4.89,6.62,5.22,5.83]"
   ]
  },
  {
   "cell_type": "code",
   "execution_count": 12,
   "id": "6edf968c-a163-4ef2-b5ec-5c0b4642083d",
   "metadata": {},
   "outputs": [],
   "source": [
    "def choose_cheapest_hours2(charging_speed,charge_needed,average_prices):\n",
    "        timeslots = []\n",
    "        hours_needed = math.ceil(charge_needed/charging_speed)\n",
    "        for i in range(len(average_prices)+1):\n",
    "            hour_subset = []\n",
    "            for j in range(3):\n",
    "                hour_subset.append(a[(i+j)%24])\n",
    "            timeslots.append(round(sum(hour_subset),3))\n",
    "        \n",
    "        cheapest_starting_hour = np.argmin(timeslots) \n",
    "        value = timeslots[np.argmin(timeslots)]\n",
    "        print('the cheapest hour to start is hour {} with a total value of {}'.format(cheapest_starting_hour,value))\n",
    "        return timeslots\n",
    "           \n",
    "        "
   ]
  },
  {
   "cell_type": "code",
   "execution_count": 13,
   "id": "3d800ba2-5a5c-4c63-9ea1-60e68ccf952d",
   "metadata": {
    "tags": []
   },
   "outputs": [
    {
     "ename": "NameError",
     "evalue": "name 'choose_cheapest_hours' is not defined",
     "output_type": "error",
     "traceback": [
      "\u001b[1;31m---------------------------------------------------------------------------\u001b[0m",
      "\u001b[1;31mNameError\u001b[0m                                 Traceback (most recent call last)",
      "\u001b[1;32m~\\AppData\\Local\\Temp/ipykernel_3332/1818060433.py\u001b[0m in \u001b[0;36m<module>\u001b[1;34m\u001b[0m\n\u001b[1;32m----> 1\u001b[1;33m \u001b[0mchoose_cheapest_hours\u001b[0m\u001b[1;33m(\u001b[0m\u001b[1;36m5\u001b[0m\u001b[1;33m,\u001b[0m\u001b[1;36m15\u001b[0m\u001b[1;33m,\u001b[0m\u001b[0ma\u001b[0m\u001b[1;33m)\u001b[0m\u001b[1;33m\u001b[0m\u001b[1;33m\u001b[0m\u001b[0m\n\u001b[0m",
      "\u001b[1;31mNameError\u001b[0m: name 'choose_cheapest_hours' is not defined"
     ]
    }
   ],
   "source": [
    "choose_cheapest_hours(5,15,a)\n"
   ]
  },
  {
   "cell_type": "code",
   "execution_count": null,
   "id": "4a704d8c-2c67-44ed-bb11-bda6592f6517",
   "metadata": {},
   "outputs": [],
   "source": [
    "def choose_cheapest_hours(starting_time,ending_time,charging_speed,charge_needed,average_daily_prices):\n",
    "        '''This function will tell you the most economic (cheap) way of getting to a full charge within the time window, if possible\n",
    "        The function does still assume a time that goes from 0 to 23 (1 day), but that can be amended by %izing the start and end time'''\n",
    "        if starting_time%24 < ending_time%24:\n",
    "            total_time_window = average_daily_prices[starting_time%24:ending_time%24] #e.g. charging from 1AM to 3PM is from 1:00 - 3:00\n",
    "        else:\n",
    "            total_time_window = average_daily_prices.copy()\n",
    "            del total_time_window[ending_time%24:starting_time%24]\n",
    "            print('time_window:')\n",
    "        print(total_time_window)\n",
    "        hours_needed = math.ceil(charge_needed/charging_speed)\n",
    "        if hours_needed > (abs(ending_time-starting_time)):\n",
    "            print('total time is insufficient to charge to full. Charging commencing immediately')\n",
    "            return starting_time\n",
    "        \n",
    "        #timeslots_prices = []                                                This function assumed all needed to be in one line after each other\n",
    "        #for i in range(len(total_time_window)+1):                            However that is not the case\n",
    "            #hour_subset = []          \n",
    "            #for j in range(3):\n",
    "                #hour_subset.append(total_time_window[(i+j)%len(total_time_window)])\n",
    "            #timeslots_prices.append(round(sum(hour_subset),3))\n",
    "        timewindow_copy = total_time_window.copy()\n",
    "        timewindow_copy.sort()\n",
    "        cheapest_values = timewindow_copy[:hours_needed]\n",
    "        cheapest_starting_hours = [total_time_window.index(i) + starting_time for i in cheapest_values]\n",
    "        \n",
    "            \n",
    "            \n",
    "        \n",
    "        \n",
    "        print('the cheapest hour to start are hours {} with a total value of {}'.format(cheapest_starting_hours,cheapest_values))\n",
    "        \n",
    "           "
   ]
  },
  {
   "cell_type": "code",
   "execution_count": null,
   "id": "76f80026-a672-4dd9-b82b-a391147cd261",
   "metadata": {},
   "outputs": [],
   "source": [
    "choose_cheapest_hours(15,8,5,15,a)"
   ]
  },
  {
   "cell_type": "code",
   "execution_count": null,
   "id": "8bb80057-0110-488b-9db9-320709578532",
   "metadata": {},
   "outputs": [],
   "source": [
    "def choose_cheapest_hours(starting_time,ending_time,charging_speed,charge_needed,average_daily_prices):\n",
    "        '''This function will tell you the most economic (cheap) way of getting to a full charge within the time window, if possible\n",
    "        The function does still assume a time that goes from 0 to 23 (1 day), but that can be amended by %izing the start and end time'''\n",
    "        if starting_time%24 < ending_time%24:\n",
    "            total_time_window = average_daily_prices[starting_time%24:ending_time%24] #e.g. charging from 1AM to 3PM is from 1:00 - 3:00\n",
    "        else:\n",
    "            total_time_window = average_daily_prices.copy()\n",
    "            del total_time_window[ending_time%24:starting_time%24]\n",
    "            print('time_window:')\n",
    "        \n",
    "        hours_needed = math.ceil(charge_needed/charging_speed)\n",
    "        if hours_needed > (abs(ending_time-starting_time)):\n",
    "            print('total time is insufficient to charge to full. Charging commencing immediately')\n",
    "            return starting_time\n",
    "\n",
    "        timewindow_copy = total_time_window.copy()\n",
    "        timewindow_copy.sort()\n",
    "        cheapest_values = timewindow_copy[:hours_needed]\n",
    "        cheapest_starting_hours = [total_time_window.index(i) + starting_time for i in cheapest_values]\n",
    "\n",
    "        print('the cheapest hour to start are hours {} with a total value of {}'.format(cheapest_starting_hours,cheapest_values))"
   ]
  }
 ],
 "metadata": {
  "kernelspec": {
   "display_name": "Python 3 (ipykernel)",
   "language": "python",
   "name": "python3"
  },
  "language_info": {
   "codemirror_mode": {
    "name": "ipython",
    "version": 3
   },
   "file_extension": ".py",
   "mimetype": "text/x-python",
   "name": "python",
   "nbconvert_exporter": "python",
   "pygments_lexer": "ipython3",
   "version": "3.9.7"
  }
 },
 "nbformat": 4,
 "nbformat_minor": 5
}
