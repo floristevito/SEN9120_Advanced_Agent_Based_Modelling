{
 "cells": [
  {
   "cell_type": "code",
   "execution_count": 1,
   "metadata": {},
   "outputs": [],
   "source": [
    "from ema_workbench import (MultiprocessingEvaluator,SequentialEvaluator, ema_logging, save_results, load_results)\n",
    "from SALib.analyze import sobol\n",
    "from ema_workbench.em_framework.evaluators import SOBOL\n",
    "from ema_workbench.em_framework.salib_samplers import get_SALib_problem\n",
    "import pandas as pd\n",
    "import seaborn as sns\n",
    "import matplotlib.pyplot as plt\n",
    "from ema_problem_definitions import ema_problem"
   ]
  },
  {
   "cell_type": "code",
   "execution_count": 2,
   "metadata": {},
   "outputs": [],
   "source": [
    "# import problem definition\n",
    "model = ema_problem(2)"
   ]
  },
  {
   "cell_type": "code",
   "execution_count": 3,
   "metadata": {},
   "outputs": [],
   "source": [
    "experiment_SOBOL, outcomes_SOBOL = load_results('../data/ema/sobol_results.tar.gz')"
   ]
  },
  {
   "cell_type": "code",
   "execution_count": 4,
   "metadata": {},
   "outputs": [],
   "source": [
    "# prepare SOBOL from results\n",
    "def get_sobol_results(variable):\n",
    "    problem = get_SALib_problem(model.uncertainties)\n",
    "    Si = sobol.analyze(problem, outcomes_SOBOL[variable],\n",
    "                    calc_second_order=True, print_to_console=False)\n",
    "    scores_filtered = {k:Si[k] for k in ['ST','ST_conf','S1','S1_conf']}\n",
    "    Si_df = pd.DataFrame(scores_filtered, index=problem['names'])\n",
    "\n",
    "    sns.set_style('white')\n",
    "    fig, ax = plt.subplots(1)\n",
    "\n",
    "    indices = Si_df[['S1','ST']]\n",
    "    err = Si_df[['S1_conf','ST_conf']]\n",
    "\n",
    "    indices.plot.bar(yerr=err.values.T,ax=ax)\n",
    "    fig.set_size_inches(8,6)\n",
    "    fig.subplots_adjust(bottom=0.3), 25\n",
    "    plt.show()"
   ]
  },
  {
   "cell_type": "code",
   "execution_count": 5,
   "metadata": {},
   "outputs": [
    {
     "data": {
      "image/png": "[encoded data removed]",
      "text/plain": [
       "<Figure size 576x432 with 1 Axes>"
      ]
     },
     "metadata": {},
     "output_type": "display_data"
    }
   ],
   "source": [
    "get_sobol_results('mean_VTG_capacity')"
   ]
  },
  {
   "cell_type": "code",
   "execution_count": 6,
   "metadata": {},
   "outputs": [
    {
     "data": {
      "text/html": [
       "<div>\n",
       "<style scoped>\n",
       "    .dataframe tbody tr th:only-of-type {\n",
       "        vertical-align: middle;\n",
       "    }\n",
       "\n",
       "    .dataframe tbody tr th {\n",
       "        vertical-align: top;\n",
       "    }\n",
       "\n",
       "    .dataframe thead th {\n",
       "        text-align: right;\n",
       "    }\n",
       "</style>\n",
       "<table border=\"1\" class=\"dataframe\">\n",
       "  <thead>\n",
       "    <tr style=\"text-align: right;\">\n",
       "      <th></th>\n",
       "      <th>VTG_percentage</th>\n",
       "      <th>p_smart</th>\n",
       "      <th>pref_home</th>\n",
       "      <th>scenario</th>\n",
       "      <th>policy</th>\n",
       "      <th>model</th>\n",
       "    </tr>\n",
       "  </thead>\n",
       "  <tbody>\n",
       "    <tr>\n",
       "      <th>0</th>\n",
       "      <td>0.001465</td>\n",
       "      <td>0.376465</td>\n",
       "      <td>0.447754</td>\n",
       "      <td>0</td>\n",
       "      <td>None</td>\n",
       "      <td>EtmEVsModel</td>\n",
       "    </tr>\n",
       "    <tr>\n",
       "      <th>1</th>\n",
       "      <td>0.486816</td>\n",
       "      <td>0.376465</td>\n",
       "      <td>0.447754</td>\n",
       "      <td>1</td>\n",
       "      <td>None</td>\n",
       "      <td>EtmEVsModel</td>\n",
       "    </tr>\n",
       "    <tr>\n",
       "      <th>2</th>\n",
       "      <td>0.001465</td>\n",
       "      <td>0.557129</td>\n",
       "      <td>0.447754</td>\n",
       "      <td>2</td>\n",
       "      <td>None</td>\n",
       "      <td>EtmEVsModel</td>\n",
       "    </tr>\n",
       "    <tr>\n",
       "      <th>3</th>\n",
       "      <td>0.001465</td>\n",
       "      <td>0.376465</td>\n",
       "      <td>0.844238</td>\n",
       "      <td>3</td>\n",
       "      <td>None</td>\n",
       "      <td>EtmEVsModel</td>\n",
       "    </tr>\n",
       "    <tr>\n",
       "      <th>4</th>\n",
       "      <td>0.001465</td>\n",
       "      <td>0.557129</td>\n",
       "      <td>0.844238</td>\n",
       "      <td>4</td>\n",
       "      <td>None</td>\n",
       "      <td>EtmEVsModel</td>\n",
       "    </tr>\n",
       "    <tr>\n",
       "      <th>...</th>\n",
       "      <td>...</td>\n",
       "      <td>...</td>\n",
       "      <td>...</td>\n",
       "      <td>...</td>\n",
       "      <td>...</td>\n",
       "      <td>...</td>\n",
       "    </tr>\n",
       "    <tr>\n",
       "      <th>5195</th>\n",
       "      <td>0.701660</td>\n",
       "      <td>0.645020</td>\n",
       "      <td>0.210449</td>\n",
       "      <td>5195</td>\n",
       "      <td>None</td>\n",
       "      <td>EtmEVsModel</td>\n",
       "    </tr>\n",
       "    <tr>\n",
       "      <th>5196</th>\n",
       "      <td>0.701660</td>\n",
       "      <td>0.050293</td>\n",
       "      <td>0.210449</td>\n",
       "      <td>5196</td>\n",
       "      <td>None</td>\n",
       "      <td>EtmEVsModel</td>\n",
       "    </tr>\n",
       "    <tr>\n",
       "      <th>5197</th>\n",
       "      <td>0.251465</td>\n",
       "      <td>0.645020</td>\n",
       "      <td>0.210449</td>\n",
       "      <td>5197</td>\n",
       "      <td>None</td>\n",
       "      <td>EtmEVsModel</td>\n",
       "    </tr>\n",
       "    <tr>\n",
       "      <th>5198</th>\n",
       "      <td>0.251465</td>\n",
       "      <td>0.050293</td>\n",
       "      <td>0.741699</td>\n",
       "      <td>5198</td>\n",
       "      <td>None</td>\n",
       "      <td>EtmEVsModel</td>\n",
       "    </tr>\n",
       "    <tr>\n",
       "      <th>5199</th>\n",
       "      <td>0.251465</td>\n",
       "      <td>0.050293</td>\n",
       "      <td>0.210449</td>\n",
       "      <td>5199</td>\n",
       "      <td>None</td>\n",
       "      <td>EtmEVsModel</td>\n",
       "    </tr>\n",
       "  </tbody>\n",
       "</table>\n",
       "<p>5200 rows × 6 columns</p>\n",
       "</div>"
      ],
      "text/plain": [
       "      VTG_percentage   p_smart  pref_home scenario policy        model\n",
       "0           0.001465  0.376465   0.447754        0   None  EtmEVsModel\n",
       "1           0.486816  0.376465   0.447754        1   None  EtmEVsModel\n",
       "2           0.001465  0.557129   0.447754        2   None  EtmEVsModel\n",
       "3           0.001465  0.376465   0.844238        3   None  EtmEVsModel\n",
       "4           0.001465  0.557129   0.844238        4   None  EtmEVsModel\n",
       "...              ...       ...        ...      ...    ...          ...\n",
       "5195        0.701660  0.645020   0.210449     5195   None  EtmEVsModel\n",
       "5196        0.701660  0.050293   0.210449     5196   None  EtmEVsModel\n",
       "5197        0.251465  0.645020   0.210449     5197   None  EtmEVsModel\n",
       "5198        0.251465  0.050293   0.741699     5198   None  EtmEVsModel\n",
       "5199        0.251465  0.050293   0.210449     5199   None  EtmEVsModel\n",
       "\n",
       "[5200 rows x 6 columns]"
      ]
     },
     "execution_count": 6,
     "metadata": {},
     "output_type": "execute_result"
    }
   ],
   "source": [
    "experiment_SOBOL"
   ]
  },
  {
   "cell_type": "code",
   "execution_count": null,
   "metadata": {},
   "outputs": [],
   "source": []
  }
 ],
 "metadata": {
  "interpreter": {
   "hash": "88b4fe8b3d33e5ed22244db5d116b24f4479b3d68b8ba8ae82dfe7c71db5439c"
  },
  "kernelspec": {
   "display_name": "Python 3.9.7 64-bit ('aabm': conda)",
   "language": "python",
   "name": "python3"
  },
  "language_info": {
   "codemirror_mode": {
    "name": "ipython",
    "version": 3
   },
   "file_extension": ".py",
   "mimetype": "text/x-python",
   "name": "python",
   "nbconvert_exporter": "python",
   "pygments_lexer": "ipython3",
   "version": "3.9.7"
  },
  "orig_nbformat": 4
 },
 "nbformat": 4,
 "nbformat_minor": 2
}
