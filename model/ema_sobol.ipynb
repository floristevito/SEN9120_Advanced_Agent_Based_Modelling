{
 "cells": [
  {
   "cell_type": "code",
   "execution_count": 1,
   "metadata": {},
   "outputs": [],
   "source": [
    "from ema_workbench import (MultiprocessingEvaluator,SequentialEvaluator, ema_logging, save_results, load_results)\n",
    "from SALib.analyze import sobol\n",
    "from ema_workbench.em_framework.evaluators import SOBOL\n",
    "from ema_workbench.em_framework.salib_samplers import get_SALib_problem\n",
    "import pandas as pd\n",
    "import seaborn as sns\n",
    "import matplotlib.pyplot as plt\n",
    "from ema_problem_definitions import ema_problem"
   ]
  },
  {
   "cell_type": "code",
   "execution_count": 2,
   "metadata": {},
   "outputs": [],
   "source": [
    "# import problem definition\n",
    "model = ema_problem(2)"
   ]
  },
  {
   "cell_type": "code",
   "execution_count": 3,
   "metadata": {},
   "outputs": [],
   "source": [
    "experiment_SOBOL, outcomes_SOBOL = load_results('../data/ema/sobol_results.tar.gz')"
   ]
  },
  {
   "cell_type": "code",
   "execution_count": 5,
   "metadata": {},
   "outputs": [],
   "source": [
    "# prepare SOBOL from results\n",
    "def get_sobol_results(variable):\n",
    "    problem = get_SALib_problem(model.uncertainties)\n",
    "    Si = sobol.analyze(problem, outcomes_SOBOL[variable],\n",
    "                    calc_second_order=True, print_to_console=False)\n",
    "    scores_filtered = {k:Si[k] for k in ['ST','ST_conf','S1','S1_conf']}\n",
    "    Si_df = pd.DataFrame(scores_filtered, index=problem['names'])\n",
    "\n",
    "    sns.set_style('white')\n",
    "    fig, ax = plt.subplots(1)\n",
    "\n",
    "    indices = Si_df[['S1','ST']]\n",
    "    err = Si_df[['S1_conf','ST_conf']]\n",
    "\n",
    "    indices.plot.bar(yerr=err.values.T,ax=ax)\n",
    "    fig.set_size_inches(8,6)\n",
    "    fig.subplots_adjust(bottom=0.3), 25\n",
    "    plt.show()"
   ]
  },
  {
   "cell_type": "code",
   "execution_count": 6,
   "metadata": {},
   "outputs": [
    {
     "data": {
      "image/png": "[encoded data removed]",
      "text/plain": [
       "<Figure size 576x432 with 1 Axes>"
      ]
     },
     "metadata": {},
     "output_type": "display_data"
    }
   ],
   "source": [
    "get_sobol_results('mean_VTG_capacity')"
   ]
  }
 ],
 "metadata": {
  "interpreter": {
   "hash": "88b4fe8b3d33e5ed22244db5d116b24f4479b3d68b8ba8ae82dfe7c71db5439c"
  },
  "kernelspec": {
   "display_name": "Python 3.9.7 64-bit ('aabm': conda)",
   "language": "python",
   "name": "python3"
  },
  "language_info": {
   "codemirror_mode": {
    "name": "ipython",
    "version": 3
   },
   "file_extension": ".py",
   "mimetype": "text/x-python",
   "name": "python",
   "nbconvert_exporter": "python",
   "pygments_lexer": "ipython3",
   "version": "3.9.7"
  },
  "orig_nbformat": 4
 },
 "nbformat": 4,
 "nbformat_minor": 2
}
