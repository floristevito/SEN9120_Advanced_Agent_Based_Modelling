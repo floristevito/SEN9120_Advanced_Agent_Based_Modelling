{
 "cells": [
  {
   "cell_type": "code",
   "execution_count": 28,
   "metadata": {},
   "outputs": [],
   "source": [
    "from ema_workbench import (MultiprocessingEvaluator,SequentialEvaluator, ema_logging, save_results, load_results)\n",
    "from SALib.analyze import sobol\n",
    "from ema_workbench.em_framework.evaluators import SOBOL\n",
    "from ema_workbench.em_framework.salib_samplers import get_SALib_problem\n",
    "import pandas as pd\n",
    "import seaborn as sns\n",
    "import matplotlib.pyplot as plt\n",
    "from ema_problem_definitions import ema_problem"
   ]
  },
  {
   "cell_type": "code",
   "execution_count": 2,
   "metadata": {},
   "outputs": [
    {
     "data": {
      "text/plain": [
       "<Logger EMA (DEBUG)>"
      ]
     },
     "execution_count": 2,
     "metadata": {},
     "output_type": "execute_result"
    }
   ],
   "source": [
    "# enable logging\n",
    "ema_logging.LOG_FORMAT = '%(message)s'\n",
    "ema_logging.log_to_stderr(ema_logging.INFO)"
   ]
  },
  {
   "cell_type": "code",
   "execution_count": 3,
   "metadata": {},
   "outputs": [],
   "source": [
    "# import problem definition\n",
    "model = ema_problem(1)"
   ]
  },
  {
   "cell_type": "code",
   "execution_count": 4,
   "metadata": {},
   "outputs": [
    {
     "name": "stderr",
     "output_type": "stream",
     "text": [
      "pool started\n",
      "/home/tevito/anaconda3/envs/aabm/lib/python3.9/site-packages/SALib/sample/saltelli.py:94: UserWarning: \n",
      "        Convergence properties of the Sobol' sequence is only valid if\n",
      "        `N` (5) is equal to `2^n`.\n",
      "        \n",
      "  warnings.warn(msg)\n",
      "performing 100 scenarios * 1 policies * 1 model(s) = 100 experiments\n",
      "10 cases completed\n",
      "20 cases completed\n",
      "30 cases completed\n",
      "40 cases completed\n",
      "50 cases completed\n",
      "60 cases completed\n",
      "70 cases completed\n",
      "80 cases completed\n",
      "90 cases completed\n",
      "100 cases completed\n",
      "experiments finished\n",
      "terminating pool\n"
     ]
    }
   ],
   "source": [
    "with MultiprocessingEvaluator(model, n_processes=14) as evaluator:\n",
    "    experiment_SOBOL, outcomes_SOBOL = evaluator.perform_experiments(scenarios = 5, uncertainty_sampling=SOBOL)"
   ]
  },
  {
   "cell_type": "code",
   "execution_count": 16,
   "metadata": {},
   "outputs": [],
   "source": [
    "# prepare SOBOL from results\n",
    "def get_sobol_results(variable):\n",
    "    problem = get_SALib_problem(model.uncertainties)\n",
    "    Si = sobol.analyze(problem, outcomes_SOBOL[variable],\n",
    "                    calc_second_order=True, print_to_console=False)\n",
    "    scores_filtered = {k:Si[k] for k in ['ST','ST_conf','S1','S1_conf']}\n",
    "    Si_df = pd.DataFrame(scores_filtered, index=problem['names'])\n",
    "\n",
    "    sns.set_style('white')\n",
    "    fig, ax = plt.subplots(1)\n",
    "\n",
    "    indices = Si_df[['S1','ST']]\n",
    "    err = Si_df[['S1_conf','ST_conf']]\n",
    "\n",
    "    indices.plot.bar(yerr=err.values.T,ax=ax)\n",
    "    fig.set_size_inches(8,6)\n",
    "    fig.subplots_adjust(bottom=0.3)\n",
    "    plt.show()"
   ]
  },
  {
   "cell_type": "code",
   "execution_count": 23,
   "metadata": {},
   "outputs": [
    {
     "data": {
      "image/png": "[encoded data removed]",
      "text/plain": [
       "<Figure size 576x432 with 1 Axes>"
      ]
     },
     "metadata": {},
     "output_type": "display_data"
    }
   ],
   "source": [
    "get_sobol_results('mean_power_demand')"
   ]
  },
  {
   "cell_type": "code",
   "execution_count": 27,
   "metadata": {},
   "outputs": [
    {
     "data": {
      "text/html": [
       "<div>\n",
       "<style scoped>\n",
       "    .dataframe tbody tr th:only-of-type {\n",
       "        vertical-align: middle;\n",
       "    }\n",
       "\n",
       "    .dataframe tbody tr th {\n",
       "        vertical-align: top;\n",
       "    }\n",
       "\n",
       "    .dataframe thead th {\n",
       "        text-align: right;\n",
       "    }\n",
       "</style>\n",
       "<table border=\"1\" class=\"dataframe\">\n",
       "  <thead>\n",
       "    <tr style=\"text-align: right;\">\n",
       "      <th></th>\n",
       "      <th>VTG_percentage</th>\n",
       "      <th>average_driving_speed</th>\n",
       "      <th>offset_dep</th>\n",
       "      <th>offset_dwell</th>\n",
       "      <th>p_pref</th>\n",
       "      <th>p_smart</th>\n",
       "      <th>pref_home</th>\n",
       "      <th>pref_strictness</th>\n",
       "      <th>weekend_week_ratio</th>\n",
       "      <th>scenario</th>\n",
       "      <th>policy</th>\n",
       "      <th>model</th>\n",
       "    </tr>\n",
       "  </thead>\n",
       "  <tbody>\n",
       "    <tr>\n",
       "      <th>0</th>\n",
       "      <td>0.09375</td>\n",
       "      <td>14.0</td>\n",
       "      <td>2.0</td>\n",
       "      <td>3.0</td>\n",
       "      <td>0.28125</td>\n",
       "      <td>0.96875</td>\n",
       "      <td>0.53125</td>\n",
       "      <td>0.84375</td>\n",
       "      <td>0.46875</td>\n",
       "      <td>0</td>\n",
       "      <td>None</td>\n",
       "      <td>EtmEVsModel</td>\n",
       "    </tr>\n",
       "    <tr>\n",
       "      <th>1</th>\n",
       "      <td>0.15625</td>\n",
       "      <td>14.0</td>\n",
       "      <td>2.0</td>\n",
       "      <td>3.0</td>\n",
       "      <td>0.28125</td>\n",
       "      <td>0.96875</td>\n",
       "      <td>0.53125</td>\n",
       "      <td>0.84375</td>\n",
       "      <td>0.46875</td>\n",
       "      <td>1</td>\n",
       "      <td>None</td>\n",
       "      <td>EtmEVsModel</td>\n",
       "    </tr>\n",
       "    <tr>\n",
       "      <th>2</th>\n",
       "      <td>0.09375</td>\n",
       "      <td>6.0</td>\n",
       "      <td>2.0</td>\n",
       "      <td>3.0</td>\n",
       "      <td>0.28125</td>\n",
       "      <td>0.96875</td>\n",
       "      <td>0.53125</td>\n",
       "      <td>0.84375</td>\n",
       "      <td>0.46875</td>\n",
       "      <td>2</td>\n",
       "      <td>None</td>\n",
       "      <td>EtmEVsModel</td>\n",
       "    </tr>\n",
       "    <tr>\n",
       "      <th>3</th>\n",
       "      <td>0.09375</td>\n",
       "      <td>14.0</td>\n",
       "      <td>2.0</td>\n",
       "      <td>3.0</td>\n",
       "      <td>0.28125</td>\n",
       "      <td>0.96875</td>\n",
       "      <td>0.53125</td>\n",
       "      <td>0.84375</td>\n",
       "      <td>0.46875</td>\n",
       "      <td>3</td>\n",
       "      <td>None</td>\n",
       "      <td>EtmEVsModel</td>\n",
       "    </tr>\n",
       "    <tr>\n",
       "      <th>4</th>\n",
       "      <td>0.09375</td>\n",
       "      <td>14.0</td>\n",
       "      <td>2.0</td>\n",
       "      <td>3.0</td>\n",
       "      <td>0.28125</td>\n",
       "      <td>0.96875</td>\n",
       "      <td>0.53125</td>\n",
       "      <td>0.84375</td>\n",
       "      <td>0.46875</td>\n",
       "      <td>4</td>\n",
       "      <td>None</td>\n",
       "      <td>EtmEVsModel</td>\n",
       "    </tr>\n",
       "    <tr>\n",
       "      <th>...</th>\n",
       "      <td>...</td>\n",
       "      <td>...</td>\n",
       "      <td>...</td>\n",
       "      <td>...</td>\n",
       "      <td>...</td>\n",
       "      <td>...</td>\n",
       "      <td>...</td>\n",
       "      <td>...</td>\n",
       "      <td>...</td>\n",
       "      <td>...</td>\n",
       "      <td>...</td>\n",
       "      <td>...</td>\n",
       "    </tr>\n",
       "    <tr>\n",
       "      <th>95</th>\n",
       "      <td>0.53125</td>\n",
       "      <td>25.0</td>\n",
       "      <td>0.0</td>\n",
       "      <td>3.0</td>\n",
       "      <td>0.03125</td>\n",
       "      <td>0.84375</td>\n",
       "      <td>0.90625</td>\n",
       "      <td>0.65625</td>\n",
       "      <td>0.46875</td>\n",
       "      <td>95</td>\n",
       "      <td>None</td>\n",
       "      <td>EtmEVsModel</td>\n",
       "    </tr>\n",
       "    <tr>\n",
       "      <th>96</th>\n",
       "      <td>0.53125</td>\n",
       "      <td>25.0</td>\n",
       "      <td>0.0</td>\n",
       "      <td>3.0</td>\n",
       "      <td>0.03125</td>\n",
       "      <td>0.21875</td>\n",
       "      <td>0.90625</td>\n",
       "      <td>0.65625</td>\n",
       "      <td>0.46875</td>\n",
       "      <td>96</td>\n",
       "      <td>None</td>\n",
       "      <td>EtmEVsModel</td>\n",
       "    </tr>\n",
       "    <tr>\n",
       "      <th>97</th>\n",
       "      <td>0.53125</td>\n",
       "      <td>25.0</td>\n",
       "      <td>0.0</td>\n",
       "      <td>3.0</td>\n",
       "      <td>0.03125</td>\n",
       "      <td>0.21875</td>\n",
       "      <td>0.90625</td>\n",
       "      <td>0.21875</td>\n",
       "      <td>0.46875</td>\n",
       "      <td>97</td>\n",
       "      <td>None</td>\n",
       "      <td>EtmEVsModel</td>\n",
       "    </tr>\n",
       "    <tr>\n",
       "      <th>98</th>\n",
       "      <td>0.53125</td>\n",
       "      <td>25.0</td>\n",
       "      <td>0.0</td>\n",
       "      <td>3.0</td>\n",
       "      <td>0.03125</td>\n",
       "      <td>0.21875</td>\n",
       "      <td>0.90625</td>\n",
       "      <td>0.65625</td>\n",
       "      <td>0.59375</td>\n",
       "      <td>98</td>\n",
       "      <td>None</td>\n",
       "      <td>EtmEVsModel</td>\n",
       "    </tr>\n",
       "    <tr>\n",
       "      <th>99</th>\n",
       "      <td>0.53125</td>\n",
       "      <td>25.0</td>\n",
       "      <td>0.0</td>\n",
       "      <td>3.0</td>\n",
       "      <td>0.03125</td>\n",
       "      <td>0.21875</td>\n",
       "      <td>0.90625</td>\n",
       "      <td>0.65625</td>\n",
       "      <td>0.46875</td>\n",
       "      <td>99</td>\n",
       "      <td>None</td>\n",
       "      <td>EtmEVsModel</td>\n",
       "    </tr>\n",
       "  </tbody>\n",
       "</table>\n",
       "<p>100 rows × 12 columns</p>\n",
       "</div>"
      ],
      "text/plain": [
       "    VTG_percentage  average_driving_speed  offset_dep  offset_dwell   p_pref  \\\n",
       "0          0.09375                   14.0         2.0           3.0  0.28125   \n",
       "1          0.15625                   14.0         2.0           3.0  0.28125   \n",
       "2          0.09375                    6.0         2.0           3.0  0.28125   \n",
       "3          0.09375                   14.0         2.0           3.0  0.28125   \n",
       "4          0.09375                   14.0         2.0           3.0  0.28125   \n",
       "..             ...                    ...         ...           ...      ...   \n",
       "95         0.53125                   25.0         0.0           3.0  0.03125   \n",
       "96         0.53125                   25.0         0.0           3.0  0.03125   \n",
       "97         0.53125                   25.0         0.0           3.0  0.03125   \n",
       "98         0.53125                   25.0         0.0           3.0  0.03125   \n",
       "99         0.53125                   25.0         0.0           3.0  0.03125   \n",
       "\n",
       "    p_smart  pref_home  pref_strictness  weekend_week_ratio scenario policy  \\\n",
       "0   0.96875    0.53125          0.84375             0.46875        0   None   \n",
       "1   0.96875    0.53125          0.84375             0.46875        1   None   \n",
       "2   0.96875    0.53125          0.84375             0.46875        2   None   \n",
       "3   0.96875    0.53125          0.84375             0.46875        3   None   \n",
       "4   0.96875    0.53125          0.84375             0.46875        4   None   \n",
       "..      ...        ...              ...                 ...      ...    ...   \n",
       "95  0.84375    0.90625          0.65625             0.46875       95   None   \n",
       "96  0.21875    0.90625          0.65625             0.46875       96   None   \n",
       "97  0.21875    0.90625          0.21875             0.46875       97   None   \n",
       "98  0.21875    0.90625          0.65625             0.59375       98   None   \n",
       "99  0.21875    0.90625          0.65625             0.46875       99   None   \n",
       "\n",
       "          model  \n",
       "0   EtmEVsModel  \n",
       "1   EtmEVsModel  \n",
       "2   EtmEVsModel  \n",
       "3   EtmEVsModel  \n",
       "4   EtmEVsModel  \n",
       "..          ...  \n",
       "95  EtmEVsModel  \n",
       "96  EtmEVsModel  \n",
       "97  EtmEVsModel  \n",
       "98  EtmEVsModel  \n",
       "99  EtmEVsModel  \n",
       "\n",
       "[100 rows x 12 columns]"
      ]
     },
     "execution_count": 27,
     "metadata": {},
     "output_type": "execute_result"
    }
   ],
   "source": [
    "pd.DataFrame(experiment_SOBOL)"
   ]
  },
  {
   "cell_type": "code",
   "execution_count": 37,
   "metadata": {},
   "outputs": [
    {
     "name": "stderr",
     "output_type": "stream",
     "text": [
      "results saved successfully to /home/tevito/Documents/EPA/Year2/Q2/SEN9120/git/SEN9120_Advanced_Agent_Based_Modelling/data/ema/sobol_results.tar.gz\n"
     ]
    }
   ],
   "source": [
    "sobol_results = save_results((experiment_SOBOL, outcomes_SOBOL), '../data/ema/sobol_results.tar.gz')"
   ]
  },
  {
   "cell_type": "code",
   "execution_count": 38,
   "metadata": {},
   "outputs": [
    {
     "name": "stderr",
     "output_type": "stream",
     "text": [
      "results loaded succesfully from /home/tevito/Documents/EPA/Year2/Q2/SEN9120/git/SEN9120_Advanced_Agent_Based_Modelling/model/sobol_results.tar.gz\n"
     ]
    }
   ],
   "source": [
    "experiment_SOBOL, outcomes_SOBOL = load_results('sobol_results.tar.gz')"
   ]
  }
 ],
 "metadata": {
  "interpreter": {
   "hash": "88b4fe8b3d33e5ed22244db5d116b24f4479b3d68b8ba8ae82dfe7c71db5439c"
  },
  "kernelspec": {
   "display_name": "Python 3.9.7 64-bit ('aabm': conda)",
   "language": "python",
   "name": "python3"
  },
  "language_info": {
   "codemirror_mode": {
    "name": "ipython",
    "version": 3
   },
   "file_extension": ".py",
   "mimetype": "text/x-python",
   "name": "python",
   "nbconvert_exporter": "python",
   "pygments_lexer": "ipython3",
   "version": "3.9.7"
  },
  "orig_nbformat": 4
 },
 "nbformat": 4,
 "nbformat_minor": 2
}
